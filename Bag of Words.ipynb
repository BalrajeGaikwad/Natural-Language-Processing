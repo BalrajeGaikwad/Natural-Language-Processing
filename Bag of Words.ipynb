{
 "cells": [
  {
   "cell_type": "code",
   "execution_count": null,
   "id": "886c6397-d16c-4560-8d66-d3c64cc25c97",
   "metadata": {},
   "outputs": [],
   "source": []
  },
  {
   "cell_type": "code",
   "execution_count": 6,
   "id": "743837da-c76f-441c-89f6-5de4f6cbbbc0",
   "metadata": {},
   "outputs": [
    {
     "ename": "SyntaxError",
     "evalue": "invalid non-printable character U+00A0 (2006790946.py, line 1)",
     "output_type": "error",
     "traceback": [
      "\u001b[1;36m  Cell \u001b[1;32mIn[6], line 1\u001b[1;36m\u001b[0m\n\u001b[1;33m    from sklearn.feature_extraction.text import CountVectorizer\u001b[0m\n\u001b[1;37m    ^\u001b[0m\n\u001b[1;31mSyntaxError\u001b[0m\u001b[1;31m:\u001b[0m invalid non-printable character U+00A0\n"
     ]
    }
   ],
   "source": [
    " from sklearn.feature_extraction.text import CountVectorizer\n",
    "import pandas as pd\n",
    "\n",
    "sent1 = \"India is a republic country. We are proud Indians.\"\n",
    "sent2 = \"The current Prime Minister of India is Shri. Narendra Modi.\"\n",
    "\n",
    "count_vectorizer = CountVectorizer()\n",
    "dtm = count_vectorizer.fit_transform([sent1, sent2])\n",
    "\n",
    "# Convert to DataFrame for better visualization\n",
    "##print(pd.DataFrame(data=dtm.toarray(), columns=count_vectorizer.get_feature_names_out()))\n",
    "# Vocabulary\n",
    "print(\"Vocabulary:\", vectorizer.get_feature_names_out())\n",
    " \n",
    "# BoW Matrix\n",
    "print(\"Bag of Words Matrix:\\n\", dtm.toarray())"
   ]
  },
  {
   "cell_type": "code",
   "execution_count": 7,
   "id": "98602ad7-d80e-4ff2-9822-013f60c41ebb",
   "metadata": {},
   "outputs": [
    {
     "name": "stdout",
     "output_type": "stream",
     "text": [
      "Vocabulary: ['cat' 'dog' 'mat' 'on' 'rug' 'sat' 'the']\n",
      "Bag of Words Matrix:\n",
      " [[1 0 1 1 0 1 2]\n",
      " [0 1 0 1 1 1 2]]\n"
     ]
    }
   ],
   "source": [
    "from sklearn.feature_extraction.text import CountVectorizer\n",
    "\n",
    "# Sample text corpus\n",
    "documents = [\n",
    "    \"The cat sat on the mat.\",\n",
    "    \"The dog sat on the rug.\"\n",
    "]\n",
    "\n",
    "# Convert to BoW representation\n",
    "vectorizer = CountVectorizer()\n",
    "bow_matrix = vectorizer.fit_transform(documents)\n",
    "\n",
    "# Vocabulary\n",
    "print(\"Vocabulary:\", vectorizer.get_feature_names_out())\n",
    "\n",
    "# BoW Matrix\n",
    "print(\"Bag of Words Matrix:\\n\", bow_matrix.toarray())\n",
    "\n"
   ]
  },
  {
   "cell_type": "code",
   "execution_count": null,
   "id": "e993dfda-aadf-47f9-b4f1-56e7fad46b94",
   "metadata": {},
   "outputs": [],
   "source": []
  }
 ],
 "metadata": {
  "kernelspec": {
   "display_name": "Python 3 (ipykernel)",
   "language": "python",
   "name": "python3"
  },
  "language_info": {
   "codemirror_mode": {
    "name": "ipython",
    "version": 3
   },
   "file_extension": ".py",
   "mimetype": "text/x-python",
   "name": "python",
   "nbconvert_exporter": "python",
   "pygments_lexer": "ipython3",
   "version": "3.11.9"
  }
 },
 "nbformat": 4,
 "nbformat_minor": 5
}
