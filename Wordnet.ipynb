{
 "cells": [
  {
   "cell_type": "code",
   "execution_count": 1,
   "id": "5a43f586-92b7-4ad0-9ecd-0bb5cab3431a",
   "metadata": {},
   "outputs": [],
   "source": [
    "import re"
   ]
  },
  {
   "cell_type": "code",
   "execution_count": 2,
   "id": "79f3764c-2142-4f20-ab12-4fd77972349e",
   "metadata": {},
   "outputs": [
    {
     "name": "stdout",
     "output_type": "stream",
     "text": [
      "occuranc3e of a-z : <re.Match object; span=(5, 8), match='was'>\n"
     ]
    }
   ],
   "source": [
    "sent3 = \"1947 was when India became independent.\"\n",
    "print(\"occurance of a-z :\", re.search(r\"[a-z]+\",sent3))"
   ]
  },
  {
   "cell_type": "code",
   "execution_count": 3,
   "id": "7b4089dc-3dbc-4ec3-9791-7fc13da9fac4",
   "metadata": {},
   "outputs": [
    {
     "name": "stdout",
     "output_type": "stream",
     "text": [
      "occuranc3e of 0-9 : <re.Match object; span=(0, 4), match='1947'>\n"
     ]
    }
   ],
   "source": [
    "sent3 = \"1947 was when India became independent.\"\n",
    "print(\"occuranc3e of 0-9 :\", re.search(r\"[0-9]+\",sent3))"
   ]
  },
  {
   "cell_type": "code",
   "execution_count": 9,
   "id": "96abf69e-95b4-4992-a490-ec159d7aeb89",
   "metadata": {},
   "outputs": [
    {
     "name": "stdout",
     "output_type": "stream",
     "text": [
      "occuranc3e of w and space : <re.Match object; span=(0, 38), match='1947 was when India became independent'>\n"
     ]
    }
   ],
   "source": [
    "sent3 = \"1947 was when India became independent.\"\n",
    "print(\"occuranc3e of w and space :\", re.search(r\"[\\w ]+\",sent3))"
   ]
  },
  {
   "cell_type": "code",
   "execution_count": 8,
   "id": "7de0eabb-9c7d-4506-bc52-ab83b2583ca8",
   "metadata": {},
   "outputs": [
    {
     "name": "stdout",
     "output_type": "stream",
     "text": [
      "Occurences of w and space:  <re.Match object; span=(0, 38), match='1947_was when India became independent'>\n"
     ]
    }
   ],
   "source": [
    "sent3 = \"1947_was when India became independent.\"\n",
    "print(\"Occurences of w and space: \",re.search(r\"[\\w ]+\",sent3))\n",
    "#prints Occurences of 0-9: <_sre.SRE_Match object; span=(0, 38), match='1947_was when India became independent'>\n"
   ]
  },
  {
   "cell_type": "code",
   "execution_count": 11,
   "id": "9a450692-3308-4169-aa45-a2c20acc0288",
   "metadata": {},
   "outputs": [
    {
     "name": "stdout",
     "output_type": "stream",
     "text": [
      "I Like tea\n"
     ]
    }
   ],
   "source": [
    "## Sub\n",
    "\n",
    "sent=\"I Like Coffee\"\n",
    "print(re.sub(r\"Coffee\", \"tea\", sent))"
   ]
  },
  {
   "cell_type": "code",
   "execution_count": 12,
   "id": "a224fb1c-d9cc-433c-9c5c-528eb5a8c065",
   "metadata": {},
   "outputs": [
    {
     "name": "stdout",
     "output_type": "stream",
     "text": [
      "['coffee', 'coffee', 'coffee', 'coffee']\n"
     ]
    }
   ],
   "source": [
    "## Find all\n",
    "\n",
    "sent = \"I like coffee and coffee is amazing. coffee keeps me awake. coffee is bad\" \n",
    "print(re.findall(r\"coffee\",sent))\n"
   ]
  },
  {
   "cell_type": "code",
   "execution_count": 14,
   "id": "d435fb6e-1525-4133-946a-8b740629a4a7",
   "metadata": {},
   "outputs": [
    {
     "name": "stdout",
     "output_type": "stream",
     "text": [
      "4\n"
     ]
    }
   ],
   "source": [
    "print(len(re.findall(r\"coffee\",sent)))"
   ]
  },
  {
   "cell_type": "code",
   "execution_count": null,
   "id": "4191d8f8-6a24-47f5-9bfd-939667abbdcb",
   "metadata": {},
   "outputs": [],
   "source": []
  },
  {
   "cell_type": "code",
   "execution_count": null,
   "id": "fcc72f40-d1ae-439a-a225-fbb67ee36769",
   "metadata": {},
   "outputs": [],
   "source": []
  },
  {
   "cell_type": "code",
   "execution_count": null,
   "id": "c2732f19-56e2-4805-9784-0a688c401ab7",
   "metadata": {},
   "outputs": [],
   "source": []
  },
  {
   "cell_type": "code",
   "execution_count": 18,
   "id": "b82e5c96-a3e4-4167-b549-cbb9b52a966c",
   "metadata": {},
   "outputs": [],
   "source": [
    "from nltk.corpus import wordnet as wn"
   ]
  },
  {
   "cell_type": "code",
   "execution_count": 19,
   "id": "eb2e32c2-9903-4e88-b2df-3a5ee6029d6b",
   "metadata": {},
   "outputs": [
    {
     "name": "stdout",
     "output_type": "stream",
     "text": [
      "[Synset('dog.n.01'), Synset('frump.n.01'), Synset('dog.n.03'), Synset('cad.n.01'), Synset('frank.n.02'), Synset('pawl.n.01'), Synset('andiron.n.01'), Synset('chase.v.01')]\n"
     ]
    }
   ],
   "source": [
    "print(wn.synsets(\"dog\"))"
   ]
  },
  {
   "cell_type": "code",
   "execution_count": 20,
   "id": "cf494dc8-6fea-4e26-a26a-9b320bdecea0",
   "metadata": {},
   "outputs": [
    {
     "ename": "NameError",
     "evalue": "name 'dog' is not defined",
     "output_type": "error",
     "traceback": [
      "\u001b[1;31m---------------------------------------------------------------------------\u001b[0m",
      "\u001b[1;31mNameError\u001b[0m                                 Traceback (most recent call last)",
      "Cell \u001b[1;32mIn[20], line 1\u001b[0m\n\u001b[1;32m----> 1\u001b[0m \u001b[38;5;28mprint\u001b[39m(\u001b[43mdog\u001b[49m\u001b[38;5;241m.\u001b[39mlemma_names())\n",
      "\u001b[1;31mNameError\u001b[0m: name 'dog' is not defined"
     ]
    }
   ],
   "source": [
    "print(dog.lemma_names())"
   ]
  },
  {
   "cell_type": "code",
   "execution_count": 21,
   "id": "aaef8f3b-5215-48c9-b596-ebc97291ca55",
   "metadata": {},
   "outputs": [
    {
     "name": "stdout",
     "output_type": "stream",
     "text": [
      "[Synset('domestic_animal.n.01'), Synset('canine.n.02')]\n"
     ]
    }
   ],
   "source": [
    "print(wn.synset('dog.n.01').hypernyms())"
   ]
  },
  {
   "cell_type": "code",
   "execution_count": 23,
   "id": "c10418a1-08ec-4be6-9ce0-97c76358b62d",
   "metadata": {},
   "outputs": [
    {
     "name": "stdout",
     "output_type": "stream",
     "text": [
      "[Synset('pooch.n.01'), Synset('pug.n.01'), Synset('griffon.n.02'), Synset('spitz.n.01'), Synset('toy_dog.n.01'), Synset('basenji.n.01'), Synset('great_pyrenees.n.01'), Synset('working_dog.n.01'), Synset('hunting_dog.n.01'), Synset('poodle.n.01'), Synset('mexican_hairless.n.01'), Synset('puppy.n.01'), Synset('leonberg.n.01'), Synset('newfoundland.n.01'), Synset('corgi.n.01'), Synset('dalmatian.n.02'), Synset('cur.n.01'), Synset('lapdog.n.01')]\n"
     ]
    }
   ],
   "source": [
    "print(wn.synset('dog.n.01').hyponyms())"
   ]
  },
  {
   "cell_type": "code",
   "execution_count": 24,
   "id": "218d196d-3b86-45a5-a70a-47a72e4dec0f",
   "metadata": {},
   "outputs": [
    {
     "name": "stdout",
     "output_type": "stream",
     "text": [
      "['goodness', 'goodness', 'commodity', 'trade_good', 'full', 'estimable', 'honorable', 'respectable', 'beneficial', 'just', 'upright', 'adept', 'expert', 'practiced', 'proficient', 'skillful', 'skilful', 'dear', 'near', 'dependable', 'safe', 'secure', 'right', 'ripe', 'well', 'effective', 'in_effect', 'in_force', 'serious', 'sound', 'salutary', 'honest', 'undecomposed', 'unspoiled', 'unspoilt', 'well', 'thoroughly', 'soundly']\n"
     ]
    }
   ],
   "source": [
    "###Get all synonyms of the word 'good'\n",
    "\n",
    "synonyms=[]\n",
    "for syn in wn.synsets(\"good\"):\n",
    "    for word in syn.lemmas():\n",
    "        if word.name()!=\"good\":\n",
    "            synonyms.append(word.name())\n",
    "print(synonyms)"
   ]
  },
  {
   "cell_type": "code",
   "execution_count": 27,
   "id": "5664a5b4-18f6-45e0-8393-06fc80cfa64d",
   "metadata": {},
   "outputs": [
    {
     "name": "stdout",
     "output_type": "stream",
     "text": [
      "['evilness', 'badness', 'ill']\n"
     ]
    }
   ],
   "source": [
    "## Get all antonyms of the word \"good\"\n",
    "\n",
    "antonyms=[]\n",
    "for syn in wn.synsets(\"good\"):\n",
    "    for word in syn.lemmas():\n",
    "        if word.name()!=\"good\" and word.antonyms():\n",
    "            antonyms.append(word.antonyms()[0].name())\n",
    "\n",
    "\n",
    "print(antonyms)"
   ]
  },
  {
   "cell_type": "code",
   "execution_count": null,
   "id": "070c20bb-dc7f-4baf-8d1b-7725b5d6bad6",
   "metadata": {},
   "outputs": [],
   "source": []
  },
  {
   "cell_type": "markdown",
   "id": "86495195-287f-4b67-95e5-7bba2b818efb",
   "metadata": {},
   "source": [
    "Part Of Speech Tagging"
   ]
  },
  {
   "cell_type": "code",
   "execution_count": null,
   "id": "f8da3b7f-a95e-4194-90a8-bd5759ec65a0",
   "metadata": {},
   "outputs": [],
   "source": []
  },
  {
   "cell_type": "code",
   "execution_count": 31,
   "id": "2f9b2e88-e9f9-440c-bf20-cfd5a99ea7c3",
   "metadata": {},
   "outputs": [
    {
     "name": "stdout",
     "output_type": "stream",
     "text": [
      "[('The', 'DT'), ('race', 'NN'), ('officials', 'NNS'), ('refused', 'VBD'), ('to', 'TO'), ('permit', 'VB'), ('the', 'DT'), ('team', 'NN'), ('to', 'TO'), ('race', 'NN'), ('today', 'NN')]\n"
     ]
    },
    {
     "name": "stderr",
     "output_type": "stream",
     "text": [
      "[nltk_data] Downloading package punkt to\n",
      "[nltk_data]     C:\\Users\\Admin\\AppData\\Roaming\\nltk_data...\n",
      "[nltk_data]   Package punkt is already up-to-date!\n",
      "[nltk_data] Downloading package averaged_perceptron_tagger to\n",
      "[nltk_data]     C:\\Users\\Admin\\AppData\\Roaming\\nltk_data...\n",
      "[nltk_data]   Package averaged_perceptron_tagger is already up-to-\n",
      "[nltk_data]       date!\n"
     ]
    }
   ],
   "source": [
    "import nltk\n",
    "from nltk.tokenize import word_tokenize\n",
    "from nltk.tag import pos_tag   \n",
    "\n",
    "## POS tagging assigns grammatical labels (e.g., noun, verb, adjective) to words in a sentence.\n",
    "\n",
    "# Download necessary resources\n",
    "nltk.download('punkt')\n",
    "nltk.download('averaged_perceptron_tagger')\n",
    "\n",
    "sent1 = \"The race officials refused to permit the team to race today\"\n",
    "print(pos_tag(word_tokenize(sent1)))\n"
   ]
  },
  {
   "cell_type": "code",
   "execution_count": 32,
   "id": "23506c78-cd77-4103-bfb5-f0dbf4f0dd89",
   "metadata": {},
   "outputs": [
    {
     "name": "stdout",
     "output_type": "stream",
     "text": [
      "[('That', 'DT'), ('gentleman', 'NN'), ('wants', 'VBZ'), ('some', 'DT'), ('water', 'NN'), ('to', 'TO'), ('water', 'NN'), ('the', 'DT'), ('plants', 'NNS')]\n"
     ]
    }
   ],
   "source": [
    "sent2 = \"That gentleman wants some water to water the plants\"\n",
    "print(pos_tag(word_tokenize(sent2)))"
   ]
  },
  {
   "cell_type": "raw",
   "id": "fd6b864a-b458-42dc-9644-79558ea41778",
   "metadata": {},
   "source": [
    "In the annotated text, you may have observed that the following kinds of annotation are required:\n",
    "\n",
    "Sentence annotation - Identify the position of each sentence \n",
    "\n",
    "Word annotation - Identify the position of each word in the given text\n",
    "\n",
    "Person annotation - Identify the position of the person's name\n",
    "\n",
    "Place annotation - Identify the position of a geographical location\n",
    "\n",
    "Date annotation - Identify the position of a date,"
   ]
  },
  {
   "cell_type": "code",
   "execution_count": 33,
   "id": "d7547407-d820-40c6-a4ca-4b975ea77351",
   "metadata": {},
   "outputs": [],
   "source": [
    "##### The below code demonstrates the usage of nltk.ne_chunk() method which works on a POS tagged list of the text."
   ]
  },
  {
   "cell_type": "code",
   "execution_count": 36,
   "id": "dc12dac7-291c-4054-a82d-edfd502e58a8",
   "metadata": {},
   "outputs": [
    {
     "name": "stderr",
     "output_type": "stream",
     "text": [
      "[nltk_data] Downloading package punkt to\n",
      "[nltk_data]     C:\\Users\\Admin\\AppData\\Roaming\\nltk_data...\n",
      "[nltk_data]   Package punkt is already up-to-date!\n",
      "[nltk_data] Downloading package maxent_ne_chunker to\n",
      "[nltk_data]     C:\\Users\\Admin\\AppData\\Roaming\\nltk_data...\n",
      "[nltk_data]   Unzipping chunkers\\maxent_ne_chunker.zip.\n",
      "[nltk_data] Downloading package words to\n",
      "[nltk_data]     C:\\Users\\Admin\\AppData\\Roaming\\nltk_data...\n",
      "[nltk_data]   Unzipping corpora\\words.zip.\n"
     ]
    },
    {
     "ename": "LookupError",
     "evalue": "\n**********************************************************************\n  Resource \u001b[93mmaxent_ne_chunker_tab\u001b[0m not found.\n  Please use the NLTK Downloader to obtain the resource:\n\n  \u001b[31m>>> import nltk\n  >>> nltk.download('maxent_ne_chunker_tab')\n  \u001b[0m\n  For more information see: https://www.nltk.org/data.html\n\n  Attempted to load \u001b[93mchunkers/maxent_ne_chunker_tab/english_ace_multiclass/\u001b[0m\n\n  Searched in:\n    - 'C:\\\\Users\\\\Admin/nltk_data'\n    - 'C:\\\\Program Files\\\\WindowsApps\\\\PythonSoftwareFoundation.Python.3.11_3.11.2544.0_x64__qbz5n2kfra8p0\\\\nltk_data'\n    - 'C:\\\\Program Files\\\\WindowsApps\\\\PythonSoftwareFoundation.Python.3.11_3.11.2544.0_x64__qbz5n2kfra8p0\\\\share\\\\nltk_data'\n    - 'C:\\\\Program Files\\\\WindowsApps\\\\PythonSoftwareFoundation.Python.3.11_3.11.2544.0_x64__qbz5n2kfra8p0\\\\lib\\\\nltk_data'\n    - 'C:\\\\Users\\\\Admin\\\\AppData\\\\Roaming\\\\nltk_data'\n    - 'C:\\\\nltk_data'\n    - 'D:\\\\nltk_data'\n    - 'E:\\\\nltk_data'\n**********************************************************************\n",
     "output_type": "error",
     "traceback": [
      "\u001b[1;31m---------------------------------------------------------------------------\u001b[0m",
      "\u001b[1;31mLookupError\u001b[0m                               Traceback (most recent call last)",
      "Cell \u001b[1;32mIn[36], line 20\u001b[0m\n\u001b[0;32m     17\u001b[0m pos_list \u001b[38;5;241m=\u001b[39m pos_tag(tokenized_barack)\n\u001b[0;32m     19\u001b[0m \u001b[38;5;66;03m# Named Entity Recognition (NER)\u001b[39;00m\n\u001b[1;32m---> 20\u001b[0m ner_tree \u001b[38;5;241m=\u001b[39m \u001b[43mne_chunk\u001b[49m\u001b[43m(\u001b[49m\u001b[43mpos_list\u001b[49m\u001b[43m)\u001b[49m\n\u001b[0;32m     22\u001b[0m \u001b[38;5;66;03m# Print the result\u001b[39;00m\n\u001b[0;32m     23\u001b[0m \u001b[38;5;28mprint\u001b[39m(ner_tree)\n",
      "File \u001b[1;32m~\\AppData\\Local\\Packages\\PythonSoftwareFoundation.Python.3.11_qbz5n2kfra8p0\\LocalCache\\local-packages\\Python311\\site-packages\\nltk\\chunk\\__init__.py:192\u001b[0m, in \u001b[0;36mne_chunk\u001b[1;34m(tagged_tokens, binary)\u001b[0m\n\u001b[0;32m    190\u001b[0m     chunker \u001b[38;5;241m=\u001b[39m ne_chunker(fmt\u001b[38;5;241m=\u001b[39m\u001b[38;5;124m\"\u001b[39m\u001b[38;5;124mbinary\u001b[39m\u001b[38;5;124m\"\u001b[39m)\n\u001b[0;32m    191\u001b[0m \u001b[38;5;28;01melse\u001b[39;00m:\n\u001b[1;32m--> 192\u001b[0m     chunker \u001b[38;5;241m=\u001b[39m \u001b[43mne_chunker\u001b[49m\u001b[43m(\u001b[49m\u001b[43m)\u001b[49m\n\u001b[0;32m    193\u001b[0m \u001b[38;5;28;01mreturn\u001b[39;00m chunker\u001b[38;5;241m.\u001b[39mparse(tagged_tokens)\n",
      "File \u001b[1;32m~\\AppData\\Local\\Packages\\PythonSoftwareFoundation.Python.3.11_qbz5n2kfra8p0\\LocalCache\\local-packages\\Python311\\site-packages\\nltk\\chunk\\__init__.py:174\u001b[0m, in \u001b[0;36mne_chunker\u001b[1;34m(fmt)\u001b[0m\n\u001b[0;32m    170\u001b[0m \u001b[38;5;28;01mdef\u001b[39;00m\u001b[38;5;250m \u001b[39m\u001b[38;5;21mne_chunker\u001b[39m(fmt\u001b[38;5;241m=\u001b[39m\u001b[38;5;124m\"\u001b[39m\u001b[38;5;124mmulticlass\u001b[39m\u001b[38;5;124m\"\u001b[39m):\n\u001b[0;32m    171\u001b[0m \u001b[38;5;250m    \u001b[39m\u001b[38;5;124;03m\"\"\"\u001b[39;00m\n\u001b[0;32m    172\u001b[0m \u001b[38;5;124;03m    Load NLTK's currently recommended named entity chunker.\u001b[39;00m\n\u001b[0;32m    173\u001b[0m \u001b[38;5;124;03m    \"\"\"\u001b[39;00m\n\u001b[1;32m--> 174\u001b[0m     \u001b[38;5;28;01mreturn\u001b[39;00m \u001b[43mMaxent_NE_Chunker\u001b[49m\u001b[43m(\u001b[49m\u001b[43mfmt\u001b[49m\u001b[43m)\u001b[49m\n",
      "File \u001b[1;32m~\\AppData\\Local\\Packages\\PythonSoftwareFoundation.Python.3.11_qbz5n2kfra8p0\\LocalCache\\local-packages\\Python311\\site-packages\\nltk\\chunk\\named_entity.py:329\u001b[0m, in \u001b[0;36mMaxent_NE_Chunker.__init__\u001b[1;34m(self, fmt)\u001b[0m\n\u001b[0;32m    326\u001b[0m \u001b[38;5;28;01mfrom\u001b[39;00m\u001b[38;5;250m \u001b[39m\u001b[38;5;21;01mnltk\u001b[39;00m\u001b[38;5;21;01m.\u001b[39;00m\u001b[38;5;21;01mdata\u001b[39;00m\u001b[38;5;250m \u001b[39m\u001b[38;5;28;01mimport\u001b[39;00m find\n\u001b[0;32m    328\u001b[0m \u001b[38;5;28mself\u001b[39m\u001b[38;5;241m.\u001b[39m_fmt \u001b[38;5;241m=\u001b[39m fmt\n\u001b[1;32m--> 329\u001b[0m \u001b[38;5;28mself\u001b[39m\u001b[38;5;241m.\u001b[39m_tab_dir \u001b[38;5;241m=\u001b[39m \u001b[43mfind\u001b[49m\u001b[43m(\u001b[49m\u001b[38;5;124;43mf\u001b[39;49m\u001b[38;5;124;43m\"\u001b[39;49m\u001b[38;5;124;43mchunkers/maxent_ne_chunker_tab/english_ace_\u001b[39;49m\u001b[38;5;132;43;01m{\u001b[39;49;00m\u001b[43mfmt\u001b[49m\u001b[38;5;132;43;01m}\u001b[39;49;00m\u001b[38;5;124;43m/\u001b[39;49m\u001b[38;5;124;43m\"\u001b[39;49m\u001b[43m)\u001b[49m\n\u001b[0;32m    330\u001b[0m \u001b[38;5;28mself\u001b[39m\u001b[38;5;241m.\u001b[39mload_params()\n",
      "File \u001b[1;32m~\\AppData\\Local\\Packages\\PythonSoftwareFoundation.Python.3.11_qbz5n2kfra8p0\\LocalCache\\local-packages\\Python311\\site-packages\\nltk\\data.py:579\u001b[0m, in \u001b[0;36mfind\u001b[1;34m(resource_name, paths)\u001b[0m\n\u001b[0;32m    577\u001b[0m sep \u001b[38;5;241m=\u001b[39m \u001b[38;5;124m\"\u001b[39m\u001b[38;5;124m*\u001b[39m\u001b[38;5;124m\"\u001b[39m \u001b[38;5;241m*\u001b[39m \u001b[38;5;241m70\u001b[39m\n\u001b[0;32m    578\u001b[0m resource_not_found \u001b[38;5;241m=\u001b[39m \u001b[38;5;124mf\u001b[39m\u001b[38;5;124m\"\u001b[39m\u001b[38;5;130;01m\\n\u001b[39;00m\u001b[38;5;132;01m{\u001b[39;00msep\u001b[38;5;132;01m}\u001b[39;00m\u001b[38;5;130;01m\\n\u001b[39;00m\u001b[38;5;132;01m{\u001b[39;00mmsg\u001b[38;5;132;01m}\u001b[39;00m\u001b[38;5;130;01m\\n\u001b[39;00m\u001b[38;5;132;01m{\u001b[39;00msep\u001b[38;5;132;01m}\u001b[39;00m\u001b[38;5;130;01m\\n\u001b[39;00m\u001b[38;5;124m\"\u001b[39m\n\u001b[1;32m--> 579\u001b[0m \u001b[38;5;28;01mraise\u001b[39;00m \u001b[38;5;167;01mLookupError\u001b[39;00m(resource_not_found)\n",
      "\u001b[1;31mLookupError\u001b[0m: \n**********************************************************************\n  Resource \u001b[93mmaxent_ne_chunker_tab\u001b[0m not found.\n  Please use the NLTK Downloader to obtain the resource:\n\n  \u001b[31m>>> import nltk\n  >>> nltk.download('maxent_ne_chunker_tab')\n  \u001b[0m\n  For more information see: https://www.nltk.org/data.html\n\n  Attempted to load \u001b[93mchunkers/maxent_ne_chunker_tab/english_ace_multiclass/\u001b[0m\n\n  Searched in:\n    - 'C:\\\\Users\\\\Admin/nltk_data'\n    - 'C:\\\\Program Files\\\\WindowsApps\\\\PythonSoftwareFoundation.Python.3.11_3.11.2544.0_x64__qbz5n2kfra8p0\\\\nltk_data'\n    - 'C:\\\\Program Files\\\\WindowsApps\\\\PythonSoftwareFoundation.Python.3.11_3.11.2544.0_x64__qbz5n2kfra8p0\\\\share\\\\nltk_data'\n    - 'C:\\\\Program Files\\\\WindowsApps\\\\PythonSoftwareFoundation.Python.3.11_3.11.2544.0_x64__qbz5n2kfra8p0\\\\lib\\\\nltk_data'\n    - 'C:\\\\Users\\\\Admin\\\\AppData\\\\Roaming\\\\nltk_data'\n    - 'C:\\\\nltk_data'\n    - 'D:\\\\nltk_data'\n    - 'E:\\\\nltk_data'\n**********************************************************************\n"
     ]
    }
   ],
   "source": [
    "import nltk\n",
    "from nltk import word_tokenize, pos_tag, ne_chunk\n",
    "\n",
    "# Download necessary resources\n",
    "nltk.download('punkt')\n",
    "nltk.download('maxent_ne_chunker')\n",
    "nltk.download('words')\n",
    "\n",
    "# Sample text\n",
    "barack = \"\"\"Barack Hussein Obama (born August 4, 1961) is an American politician \n",
    "who served as the 44th President of the United States from January 20, 2009, to January 20, 2017.\n",
    "A member of the Democratic Party, he was the first African American to assume the presidency \n",
    "and previously served as a United States Senator from Illinois (2005–2008).\"\"\"\n",
    "\n",
    "# Tokenization and POS tagging\n",
    "tokenized_barack = word_tokenize(barack)\n",
    "pos_list = pos_tag(tokenized_barack)\n",
    "\n",
    "# Named Entity Recognition (NER)\n",
    "ner_tree = ne_chunk(pos_list)\n",
    "\n",
    "# Print the result\n",
    "print(ner_tree)\n"
   ]
  },
  {
   "cell_type": "code",
   "execution_count": 37,
   "id": "e476f444-197c-4183-b527-8384309a95f5",
   "metadata": {},
   "outputs": [
    {
     "name": "stdout",
     "output_type": "stream",
     "text": [
      "Collecting spacy\n",
      "  Downloading spacy-3.8.4-cp311-cp311-win_amd64.whl.metadata (27 kB)\n",
      "Collecting spacy-legacy<3.1.0,>=3.0.11 (from spacy)\n",
      "  Downloading spacy_legacy-3.0.12-py2.py3-none-any.whl.metadata (2.8 kB)\n",
      "Collecting spacy-loggers<2.0.0,>=1.0.0 (from spacy)\n",
      "  Downloading spacy_loggers-1.0.5-py3-none-any.whl.metadata (23 kB)\n",
      "Collecting murmurhash<1.1.0,>=0.28.0 (from spacy)\n",
      "  Downloading murmurhash-1.0.12-cp311-cp311-win_amd64.whl.metadata (2.2 kB)\n",
      "Collecting cymem<2.1.0,>=2.0.2 (from spacy)\n",
      "  Downloading cymem-2.0.11-cp311-cp311-win_amd64.whl.metadata (8.8 kB)\n",
      "Collecting preshed<3.1.0,>=3.0.2 (from spacy)\n",
      "  Downloading preshed-3.0.9-cp311-cp311-win_amd64.whl.metadata (2.2 kB)\n",
      "Collecting thinc<8.4.0,>=8.3.4 (from spacy)\n",
      "  Downloading thinc-8.3.4-cp311-cp311-win_amd64.whl.metadata (15 kB)\n",
      "Collecting wasabi<1.2.0,>=0.9.1 (from spacy)\n",
      "  Downloading wasabi-1.1.3-py3-none-any.whl.metadata (28 kB)\n",
      "Collecting srsly<3.0.0,>=2.4.3 (from spacy)\n",
      "  Downloading srsly-2.5.1-cp311-cp311-win_amd64.whl.metadata (20 kB)\n",
      "Collecting catalogue<2.1.0,>=2.0.6 (from spacy)\n",
      "  Downloading catalogue-2.0.10-py3-none-any.whl.metadata (14 kB)\n",
      "Collecting weasel<0.5.0,>=0.1.0 (from spacy)\n",
      "  Downloading weasel-0.4.1-py3-none-any.whl.metadata (4.6 kB)\n",
      "Collecting typer<1.0.0,>=0.3.0 (from spacy)\n",
      "  Downloading typer-0.15.2-py3-none-any.whl.metadata (15 kB)\n",
      "Requirement already satisfied: tqdm<5.0.0,>=4.38.0 in c:\\users\\admin\\appdata\\local\\packages\\pythonsoftwarefoundation.python.3.11_qbz5n2kfra8p0\\localcache\\local-packages\\python311\\site-packages (from spacy) (4.65.0)\n",
      "Requirement already satisfied: numpy>=1.19.0 in c:\\users\\admin\\appdata\\local\\packages\\pythonsoftwarefoundation.python.3.11_qbz5n2kfra8p0\\localcache\\local-packages\\python311\\site-packages (from spacy) (1.26.4)\n",
      "Requirement already satisfied: requests<3.0.0,>=2.13.0 in c:\\users\\admin\\appdata\\local\\packages\\pythonsoftwarefoundation.python.3.11_qbz5n2kfra8p0\\localcache\\local-packages\\python311\\site-packages (from spacy) (2.31.0)\n",
      "Collecting pydantic!=1.8,!=1.8.1,<3.0.0,>=1.7.4 (from spacy)\n",
      "  Downloading pydantic-2.11.1-py3-none-any.whl.metadata (63 kB)\n",
      "Requirement already satisfied: jinja2 in c:\\users\\admin\\appdata\\local\\packages\\pythonsoftwarefoundation.python.3.11_qbz5n2kfra8p0\\localcache\\local-packages\\python311\\site-packages (from spacy) (3.1.3)\n",
      "Requirement already satisfied: setuptools in c:\\program files\\windowsapps\\pythonsoftwarefoundation.python.3.11_3.11.2544.0_x64__qbz5n2kfra8p0\\lib\\site-packages (from spacy) (65.5.0)\n",
      "Requirement already satisfied: packaging>=20.0 in c:\\users\\admin\\appdata\\local\\packages\\pythonsoftwarefoundation.python.3.11_qbz5n2kfra8p0\\localcache\\local-packages\\python311\\site-packages (from spacy) (24.0)\n",
      "Collecting langcodes<4.0.0,>=3.2.0 (from spacy)\n",
      "  Downloading langcodes-3.5.0-py3-none-any.whl.metadata (29 kB)\n",
      "Collecting language-data>=1.2 (from langcodes<4.0.0,>=3.2.0->spacy)\n",
      "  Downloading language_data-1.3.0-py3-none-any.whl.metadata (4.3 kB)\n",
      "Collecting annotated-types>=0.6.0 (from pydantic!=1.8,!=1.8.1,<3.0.0,>=1.7.4->spacy)\n",
      "  Downloading annotated_types-0.7.0-py3-none-any.whl.metadata (15 kB)\n",
      "Collecting pydantic-core==2.33.0 (from pydantic!=1.8,!=1.8.1,<3.0.0,>=1.7.4->spacy)\n",
      "  Downloading pydantic_core-2.33.0-cp311-cp311-win_amd64.whl.metadata (6.9 kB)\n",
      "Collecting typing-extensions>=4.12.2 (from pydantic!=1.8,!=1.8.1,<3.0.0,>=1.7.4->spacy)\n",
      "  Downloading typing_extensions-4.13.0-py3-none-any.whl.metadata (3.0 kB)\n",
      "Collecting typing-inspection>=0.4.0 (from pydantic!=1.8,!=1.8.1,<3.0.0,>=1.7.4->spacy)\n",
      "  Downloading typing_inspection-0.4.0-py3-none-any.whl.metadata (2.6 kB)\n",
      "Requirement already satisfied: charset-normalizer<4,>=2 in c:\\users\\admin\\appdata\\local\\packages\\pythonsoftwarefoundation.python.3.11_qbz5n2kfra8p0\\localcache\\local-packages\\python311\\site-packages (from requests<3.0.0,>=2.13.0->spacy) (3.2.0)\n",
      "Requirement already satisfied: idna<4,>=2.5 in c:\\users\\admin\\appdata\\local\\packages\\pythonsoftwarefoundation.python.3.11_qbz5n2kfra8p0\\localcache\\local-packages\\python311\\site-packages (from requests<3.0.0,>=2.13.0->spacy) (3.4)\n",
      "Requirement already satisfied: urllib3<3,>=1.21.1 in c:\\users\\admin\\appdata\\local\\packages\\pythonsoftwarefoundation.python.3.11_qbz5n2kfra8p0\\localcache\\local-packages\\python311\\site-packages (from requests<3.0.0,>=2.13.0->spacy) (2.0.4)\n",
      "Requirement already satisfied: certifi>=2017.4.17 in c:\\users\\admin\\appdata\\local\\packages\\pythonsoftwarefoundation.python.3.11_qbz5n2kfra8p0\\localcache\\local-packages\\python311\\site-packages (from requests<3.0.0,>=2.13.0->spacy) (2023.7.22)\n",
      "Collecting blis<1.3.0,>=1.2.0 (from thinc<8.4.0,>=8.3.4->spacy)\n",
      "  Downloading blis-1.2.0-cp311-cp311-win_amd64.whl.metadata (7.9 kB)\n",
      "Collecting confection<1.0.0,>=0.0.1 (from thinc<8.4.0,>=8.3.4->spacy)\n",
      "  Downloading confection-0.1.5-py3-none-any.whl.metadata (19 kB)\n",
      "Requirement already satisfied: colorama in c:\\users\\admin\\appdata\\local\\packages\\pythonsoftwarefoundation.python.3.11_qbz5n2kfra8p0\\localcache\\local-packages\\python311\\site-packages (from tqdm<5.0.0,>=4.38.0->spacy) (0.4.6)\n",
      "Requirement already satisfied: click>=8.0.0 in c:\\users\\admin\\appdata\\local\\packages\\pythonsoftwarefoundation.python.3.11_qbz5n2kfra8p0\\localcache\\local-packages\\python311\\site-packages (from typer<1.0.0,>=0.3.0->spacy) (8.1.8)\n",
      "Collecting shellingham>=1.3.0 (from typer<1.0.0,>=0.3.0->spacy)\n",
      "  Downloading shellingham-1.5.4-py2.py3-none-any.whl.metadata (3.5 kB)\n",
      "Collecting rich>=10.11.0 (from typer<1.0.0,>=0.3.0->spacy)\n",
      "  Downloading rich-14.0.0-py3-none-any.whl.metadata (18 kB)\n",
      "Collecting cloudpathlib<1.0.0,>=0.7.0 (from weasel<0.5.0,>=0.1.0->spacy)\n",
      "  Downloading cloudpathlib-0.21.0-py3-none-any.whl.metadata (14 kB)\n",
      "Collecting smart-open<8.0.0,>=5.2.1 (from weasel<0.5.0,>=0.1.0->spacy)\n",
      "  Downloading smart_open-7.1.0-py3-none-any.whl.metadata (24 kB)\n",
      "Requirement already satisfied: MarkupSafe>=2.0 in c:\\users\\admin\\appdata\\local\\packages\\pythonsoftwarefoundation.python.3.11_qbz5n2kfra8p0\\localcache\\local-packages\\python311\\site-packages (from jinja2->spacy) (2.1.5)\n",
      "Collecting marisa-trie>=1.1.0 (from language-data>=1.2->langcodes<4.0.0,>=3.2.0->spacy)\n",
      "  Downloading marisa_trie-1.2.1-cp311-cp311-win_amd64.whl.metadata (9.3 kB)\n",
      "Collecting markdown-it-py>=2.2.0 (from rich>=10.11.0->typer<1.0.0,>=0.3.0->spacy)\n",
      "  Downloading markdown_it_py-3.0.0-py3-none-any.whl.metadata (6.9 kB)\n",
      "Requirement already satisfied: pygments<3.0.0,>=2.13.0 in c:\\users\\admin\\appdata\\local\\packages\\pythonsoftwarefoundation.python.3.11_qbz5n2kfra8p0\\localcache\\local-packages\\python311\\site-packages (from rich>=10.11.0->typer<1.0.0,>=0.3.0->spacy) (2.19.1)\n",
      "Collecting wrapt (from smart-open<8.0.0,>=5.2.1->weasel<0.5.0,>=0.1.0->spacy)\n",
      "  Downloading wrapt-1.17.2-cp311-cp311-win_amd64.whl.metadata (6.5 kB)\n",
      "Collecting mdurl~=0.1 (from markdown-it-py>=2.2.0->rich>=10.11.0->typer<1.0.0,>=0.3.0->spacy)\n",
      "  Downloading mdurl-0.1.2-py3-none-any.whl.metadata (1.6 kB)\n",
      "Downloading spacy-3.8.4-cp311-cp311-win_amd64.whl (12.2 MB)\n",
      "   ---------------------------------------- 0.0/12.2 MB ? eta -:--:--\n",
      "   ------- -------------------------------- 2.4/12.2 MB 11.2 MB/s eta 0:00:01\n",
      "   ------------- -------------------------- 4.2/12.2 MB 10.1 MB/s eta 0:00:01\n",
      "   ------------------- -------------------- 6.0/12.2 MB 9.5 MB/s eta 0:00:01\n",
      "   ------------------------- -------------- 7.9/12.2 MB 9.2 MB/s eta 0:00:01\n",
      "   ------------------------------ --------- 9.4/12.2 MB 8.9 MB/s eta 0:00:01\n",
      "   ------------------------------------ --- 11.0/12.2 MB 8.7 MB/s eta 0:00:01\n",
      "   ---------------------------------------- 12.2/12.2 MB 8.2 MB/s eta 0:00:00\n",
      "Downloading catalogue-2.0.10-py3-none-any.whl (17 kB)\n",
      "Downloading cymem-2.0.11-cp311-cp311-win_amd64.whl (39 kB)\n",
      "Downloading langcodes-3.5.0-py3-none-any.whl (182 kB)\n",
      "Downloading murmurhash-1.0.12-cp311-cp311-win_amd64.whl (25 kB)\n",
      "Downloading preshed-3.0.9-cp311-cp311-win_amd64.whl (122 kB)\n",
      "Downloading pydantic-2.11.1-py3-none-any.whl (442 kB)\n",
      "Downloading pydantic_core-2.33.0-cp311-cp311-win_amd64.whl (1.9 MB)\n",
      "   ---------------------------------------- 0.0/1.9 MB ? eta -:--:--\n",
      "   ---------------------------------------- 1.9/1.9 MB 10.8 MB/s eta 0:00:00\n",
      "Downloading spacy_legacy-3.0.12-py2.py3-none-any.whl (29 kB)\n",
      "Downloading spacy_loggers-1.0.5-py3-none-any.whl (22 kB)\n",
      "Downloading srsly-2.5.1-cp311-cp311-win_amd64.whl (632 kB)\n",
      "   ---------------------------------------- 0.0/632.6 kB ? eta -:--:--\n",
      "   ---------------------------------------- 632.6/632.6 kB 8.1 MB/s eta 0:00:00\n",
      "Downloading thinc-8.3.4-cp311-cp311-win_amd64.whl (1.5 MB)\n",
      "   ---------------------------------------- 0.0/1.5 MB ? eta -:--:--\n",
      "   ----------------------------------- ---- 1.3/1.5 MB 11.3 MB/s eta 0:00:01\n",
      "   ---------------------------------------- 1.5/1.5 MB 4.9 MB/s eta 0:00:00\n",
      "Downloading typer-0.15.2-py3-none-any.whl (45 kB)\n",
      "Downloading wasabi-1.1.3-py3-none-any.whl (27 kB)\n",
      "Downloading weasel-0.4.1-py3-none-any.whl (50 kB)\n",
      "Downloading annotated_types-0.7.0-py3-none-any.whl (13 kB)\n",
      "Downloading blis-1.2.0-cp311-cp311-win_amd64.whl (6.2 MB)\n",
      "   ---------------------------------------- 0.0/6.2 MB ? eta -:--:--\n",
      "   --------------- ------------------------ 2.4/6.2 MB 11.2 MB/s eta 0:00:01\n",
      "   -------------------------- ------------- 4.2/6.2 MB 9.7 MB/s eta 0:00:01\n",
      "   ------------------------------------- -- 5.8/6.2 MB 9.3 MB/s eta 0:00:01\n",
      "   ---------------------------------------- 6.2/6.2 MB 8.9 MB/s eta 0:00:00\n",
      "Downloading cloudpathlib-0.21.0-py3-none-any.whl (52 kB)\n",
      "Downloading confection-0.1.5-py3-none-any.whl (35 kB)\n",
      "Downloading language_data-1.3.0-py3-none-any.whl (5.4 MB)\n",
      "   ---------------------------------------- 0.0/5.4 MB ? eta -:--:--\n",
      "   ------------- -------------------------- 1.8/5.4 MB 9.2 MB/s eta 0:00:01\n",
      "   ----------------------------- ---------- 3.9/5.4 MB 9.4 MB/s eta 0:00:01\n",
      "   ---------------------------------------- 5.4/5.4 MB 8.4 MB/s eta 0:00:00\n",
      "Downloading rich-14.0.0-py3-none-any.whl (243 kB)\n",
      "Downloading shellingham-1.5.4-py2.py3-none-any.whl (9.8 kB)\n",
      "Downloading smart_open-7.1.0-py3-none-any.whl (61 kB)\n",
      "Downloading typing_extensions-4.13.0-py3-none-any.whl (45 kB)\n",
      "Downloading typing_inspection-0.4.0-py3-none-any.whl (14 kB)\n",
      "Downloading marisa_trie-1.2.1-cp311-cp311-win_amd64.whl (152 kB)\n",
      "Downloading markdown_it_py-3.0.0-py3-none-any.whl (87 kB)\n",
      "Downloading wrapt-1.17.2-cp311-cp311-win_amd64.whl (38 kB)\n",
      "Downloading mdurl-0.1.2-py3-none-any.whl (10.0 kB)\n",
      "Installing collected packages: cymem, wrapt, wasabi, typing-extensions, spacy-loggers, spacy-legacy, shellingham, murmurhash, mdurl, marisa-trie, cloudpathlib, catalogue, blis, annotated-types, typing-inspection, srsly, smart-open, pydantic-core, preshed, markdown-it-py, language-data, rich, pydantic, langcodes, typer, confection, weasel, thinc, spacy\n",
      "  Attempting uninstall: typing-extensions\n",
      "    Found existing installation: typing_extensions 4.10.0\n",
      "    Uninstalling typing_extensions-4.10.0:\n",
      "      Successfully uninstalled typing_extensions-4.10.0\n",
      "Successfully installed annotated-types-0.7.0 blis-1.2.0 catalogue-2.0.10 cloudpathlib-0.21.0 confection-0.1.5 cymem-2.0.11 langcodes-3.5.0 language-data-1.3.0 marisa-trie-1.2.1 markdown-it-py-3.0.0 mdurl-0.1.2 murmurhash-1.0.12 preshed-3.0.9 pydantic-2.11.1 pydantic-core-2.33.0 rich-14.0.0 shellingham-1.5.4 smart-open-7.1.0 spacy-3.8.4 spacy-legacy-3.0.12 spacy-loggers-1.0.5 srsly-2.5.1 thinc-8.3.4 typer-0.15.2 typing-extensions-4.13.0 typing-inspection-0.4.0 wasabi-1.1.3 weasel-0.4.1 wrapt-1.17.2\n",
      "Note: you may need to restart the kernel to use updated packages.\n"
     ]
    },
    {
     "name": "stderr",
     "output_type": "stream",
     "text": [
      "\n",
      "[notice] A new release of pip is available: 25.0 -> 25.0.1\n",
      "[notice] To update, run: C:\\Users\\Admin\\AppData\\Local\\Microsoft\\WindowsApps\\PythonSoftwareFoundation.Python.3.11_qbz5n2kfra8p0\\python.exe -m pip install --upgrade pip\n"
     ]
    }
   ],
   "source": [
    "pip install spacy\n"
   ]
  },
  {
   "cell_type": "code",
   "execution_count": 38,
   "id": "c077b3b4-699e-42d1-8ddb-9cba58a805ac",
   "metadata": {},
   "outputs": [
    {
     "ename": "SyntaxError",
     "evalue": "invalid syntax (1553972540.py, line 1)",
     "output_type": "error",
     "traceback": [
      "\u001b[1;36m  Cell \u001b[1;32mIn[38], line 1\u001b[1;36m\u001b[0m\n\u001b[1;33m    python -m spacy download en_core_web_sm\u001b[0m\n\u001b[1;37m              ^\u001b[0m\n\u001b[1;31mSyntaxError\u001b[0m\u001b[1;31m:\u001b[0m invalid syntax\n"
     ]
    }
   ],
   "source": [
    "python -m spacy download en_core_web_sm\n"
   ]
  },
  {
   "cell_type": "code",
   "execution_count": null,
   "id": "6fcd43bf-3454-4c97-96ac-0996e7f7205f",
   "metadata": {},
   "outputs": [],
   "source": [
    "import spacy\n",
    "\n",
    "# Load English NLP model\n",
    "nlp = spacy.load(\"en_core_web_sm\")\n",
    "\n",
    "# Sample text\n",
    "barack = \"\"\"Barack Hussein Obama (born August 4, 1961) is an American politician \n",
    "who served as the 44th President of the United States from January 20, 2009, to January 20, 2017.\n",
    "A member of the Democratic Party, he was the first African American to assume the presidency \n",
    "and previously served as a United States Senator from Illinois (2005–2008).\"\"\"\n",
    "\n",
    "# Process text with SpaCy\n",
    "doc = nlp(barack)\n",
    "\n",
    "# Print Named Entities\n",
    "for ent in doc.ents:\n",
    "    print(f\"{ent.text} -> {ent.label_}\")\n"
   ]
  },
  {
   "cell_type": "markdown",
   "id": "edda0c82-d283-40fa-8261-8986eab19069",
   "metadata": {},
   "source": [
    "******************************Entity Relationship Extraction******************************"
   ]
  },
  {
   "cell_type": "code",
   "execution_count": 53,
   "id": "de431f27-7bce-47b8-9af0-6c70fa4cd97f",
   "metadata": {
    "scrolled": true
   },
   "outputs": [],
   "source": [
    "import nltk\n",
    "import pandas as pd\n",
    "text=\"\"\"\n",
    "Avul Pakir Jainulabdeen Abdul Kalam (15 October 1931 – 27 July 2015) was an Indian aerospace scientist and politician who served as the 11th President of India from 2002 to 2007. He was born and raised in Rameswaram, Tamil Nadu and studied physics and aerospace engineering. He spent the next four decades as a scientist and science administrator, mainly at the Defence Research and Development Organisation (DRDO) and Indian Space Research Organisation (ISRO) and was intimately involved in India's civilian space programme and military missile development efforts.[1] He thus came to be known as the Missile Man of India for his work on the development of ballistic missile and launch vehicle technology.[2][3][4] He also played a pivotal organisational, technical, and political role in India's Pokhran-II nuclear tests in 1998, the first since the original nuclear test by India in 1974.\n",
    "\"\"\""
   ]
  },
  {
   "cell_type": "code",
   "execution_count": 54,
   "id": "28727d3b-3d85-40a2-9f3a-70567179f07c",
   "metadata": {},
   "outputs": [
    {
     "data": {
      "text/plain": [
       "\"\\nAvul Pakir Jainulabdeen Abdul Kalam (15 October 1931 – 27 July 2015) was an Indian aerospace scientist and politician who served as the 11th President of India from 2002 to 2007. He was born and raised in Rameswaram, Tamil Nadu and studied physics and aerospace engineering. He spent the next four decades as a scientist and science administrator, mainly at the Defence Research and Development Organisation (DRDO) and Indian Space Research Organisation (ISRO) and was intimately involved in India's civilian space programme and military missile development efforts.[1] He thus came to be known as the Missile Man of India for his work on the development of ballistic missile and launch vehicle technology.[2][3][4] He also played a pivotal organisational, technical, and political role in India's Pokhran-II nuclear tests in 1998, the first since the original nuclear test by India in 1974.\\n\""
      ]
     },
     "execution_count": 54,
     "metadata": {},
     "output_type": "execute_result"
    }
   ],
   "source": [
    "text"
   ]
  },
  {
   "cell_type": "code",
   "execution_count": 55,
   "id": "c5200e64-1c40-4713-aa7f-91ae4d01e6ab",
   "metadata": {},
   "outputs": [
    {
     "name": "stdout",
     "output_type": "stream",
     "text": [
      "\n",
      "Avul Pakir Jainulabdeen Abdul Kalam (15 October 1931 – 27 July 2015) was an Indian aerospace scientist and politician who served as the 11th President of India from 2002 to 2007. He was born and raised in Rameswaram, Tamil Nadu and studied physics and aerospace engineering. He spent the next four decades as a scientist and science administrator, mainly at the Defence Research and Development Organisation (DRDO) and Indian Space Research Organisation (ISRO) and was intimately involved in India's civilian space programme and military missile development efforts.[1] He thus came to be known as the Missile Man of India for his work on the development of ballistic missile and launch vehicle technology.[2][3][4] He also played a pivotal organisational, technical, and political role in India's Pokhran-II nuclear tests in 1998, the first since the original nuclear test by India in 1974.\n",
      "\n"
     ]
    }
   ],
   "source": [
    "print(text)"
   ]
  },
  {
   "cell_type": "code",
   "execution_count": 57,
   "id": "175b3cb8-68a9-41e0-90e0-d49586ee40d6",
   "metadata": {},
   "outputs": [],
   "source": [
    "#### Pre Processing \n",
    "\n",
    "words=nltk.word_tokenize(text)\n",
    "tagged_words=nltk.pos_tag(words)"
   ]
  },
  {
   "cell_type": "code",
   "execution_count": 58,
   "id": "c28b9beb-0fea-4e44-a2c8-b4346c1c8a21",
   "metadata": {},
   "outputs": [
    {
     "data": {
      "text/plain": [
       "['Avul',\n",
       " 'Pakir',\n",
       " 'Jainulabdeen',\n",
       " 'Abdul',\n",
       " 'Kalam',\n",
       " '(',\n",
       " '15',\n",
       " 'October',\n",
       " '1931',\n",
       " '–',\n",
       " '27',\n",
       " 'July',\n",
       " '2015',\n",
       " ')',\n",
       " 'was',\n",
       " 'an',\n",
       " 'Indian',\n",
       " 'aerospace',\n",
       " 'scientist',\n",
       " 'and',\n",
       " 'politician',\n",
       " 'who',\n",
       " 'served',\n",
       " 'as',\n",
       " 'the',\n",
       " '11th',\n",
       " 'President',\n",
       " 'of',\n",
       " 'India',\n",
       " 'from',\n",
       " '2002',\n",
       " 'to',\n",
       " '2007',\n",
       " '.',\n",
       " 'He',\n",
       " 'was',\n",
       " 'born',\n",
       " 'and',\n",
       " 'raised',\n",
       " 'in',\n",
       " 'Rameswaram',\n",
       " ',',\n",
       " 'Tamil',\n",
       " 'Nadu',\n",
       " 'and',\n",
       " 'studied',\n",
       " 'physics',\n",
       " 'and',\n",
       " 'aerospace',\n",
       " 'engineering',\n",
       " '.',\n",
       " 'He',\n",
       " 'spent',\n",
       " 'the',\n",
       " 'next',\n",
       " 'four',\n",
       " 'decades',\n",
       " 'as',\n",
       " 'a',\n",
       " 'scientist',\n",
       " 'and',\n",
       " 'science',\n",
       " 'administrator',\n",
       " ',',\n",
       " 'mainly',\n",
       " 'at',\n",
       " 'the',\n",
       " 'Defence',\n",
       " 'Research',\n",
       " 'and',\n",
       " 'Development',\n",
       " 'Organisation',\n",
       " '(',\n",
       " 'DRDO',\n",
       " ')',\n",
       " 'and',\n",
       " 'Indian',\n",
       " 'Space',\n",
       " 'Research',\n",
       " 'Organisation',\n",
       " '(',\n",
       " 'ISRO',\n",
       " ')',\n",
       " 'and',\n",
       " 'was',\n",
       " 'intimately',\n",
       " 'involved',\n",
       " 'in',\n",
       " 'India',\n",
       " \"'s\",\n",
       " 'civilian',\n",
       " 'space',\n",
       " 'programme',\n",
       " 'and',\n",
       " 'military',\n",
       " 'missile',\n",
       " 'development',\n",
       " 'efforts',\n",
       " '.',\n",
       " '[',\n",
       " '1',\n",
       " ']',\n",
       " 'He',\n",
       " 'thus',\n",
       " 'came',\n",
       " 'to',\n",
       " 'be',\n",
       " 'known',\n",
       " 'as',\n",
       " 'the',\n",
       " 'Missile',\n",
       " 'Man',\n",
       " 'of',\n",
       " 'India',\n",
       " 'for',\n",
       " 'his',\n",
       " 'work',\n",
       " 'on',\n",
       " 'the',\n",
       " 'development',\n",
       " 'of',\n",
       " 'ballistic',\n",
       " 'missile',\n",
       " 'and',\n",
       " 'launch',\n",
       " 'vehicle',\n",
       " 'technology',\n",
       " '.',\n",
       " '[',\n",
       " '2',\n",
       " ']',\n",
       " '[',\n",
       " '3',\n",
       " ']',\n",
       " '[',\n",
       " '4',\n",
       " ']',\n",
       " 'He',\n",
       " 'also',\n",
       " 'played',\n",
       " 'a',\n",
       " 'pivotal',\n",
       " 'organisational',\n",
       " ',',\n",
       " 'technical',\n",
       " ',',\n",
       " 'and',\n",
       " 'political',\n",
       " 'role',\n",
       " 'in',\n",
       " 'India',\n",
       " \"'s\",\n",
       " 'Pokhran-II',\n",
       " 'nuclear',\n",
       " 'tests',\n",
       " 'in',\n",
       " '1998',\n",
       " ',',\n",
       " 'the',\n",
       " 'first',\n",
       " 'since',\n",
       " 'the',\n",
       " 'original',\n",
       " 'nuclear',\n",
       " 'test',\n",
       " 'by',\n",
       " 'India',\n",
       " 'in',\n",
       " '1974',\n",
       " '.']"
      ]
     },
     "execution_count": 58,
     "metadata": {},
     "output_type": "execute_result"
    }
   ],
   "source": [
    "words"
   ]
  },
  {
   "cell_type": "code",
   "execution_count": 59,
   "id": "dd2a1d1e-e203-4bf3-becf-e1feed214fcf",
   "metadata": {},
   "outputs": [
    {
     "data": {
      "text/plain": [
       "[('Avul', 'NNP'),\n",
       " ('Pakir', 'NNP'),\n",
       " ('Jainulabdeen', 'NNP'),\n",
       " ('Abdul', 'NNP'),\n",
       " ('Kalam', 'NNP'),\n",
       " ('(', '('),\n",
       " ('15', 'CD'),\n",
       " ('October', 'NNP'),\n",
       " ('1931', 'CD'),\n",
       " ('–', 'VBD'),\n",
       " ('27', 'CD'),\n",
       " ('July', 'NNP'),\n",
       " ('2015', 'CD'),\n",
       " (')', ')'),\n",
       " ('was', 'VBD'),\n",
       " ('an', 'DT'),\n",
       " ('Indian', 'JJ'),\n",
       " ('aerospace', 'NN'),\n",
       " ('scientist', 'NN'),\n",
       " ('and', 'CC'),\n",
       " ('politician', 'NN'),\n",
       " ('who', 'WP'),\n",
       " ('served', 'VBD'),\n",
       " ('as', 'IN'),\n",
       " ('the', 'DT'),\n",
       " ('11th', 'CD'),\n",
       " ('President', 'NNP'),\n",
       " ('of', 'IN'),\n",
       " ('India', 'NNP'),\n",
       " ('from', 'IN'),\n",
       " ('2002', 'CD'),\n",
       " ('to', 'TO'),\n",
       " ('2007', 'CD'),\n",
       " ('.', '.'),\n",
       " ('He', 'PRP'),\n",
       " ('was', 'VBD'),\n",
       " ('born', 'VBN'),\n",
       " ('and', 'CC'),\n",
       " ('raised', 'VBN'),\n",
       " ('in', 'IN'),\n",
       " ('Rameswaram', 'NNP'),\n",
       " (',', ','),\n",
       " ('Tamil', 'NNP'),\n",
       " ('Nadu', 'NNP'),\n",
       " ('and', 'CC'),\n",
       " ('studied', 'VBN'),\n",
       " ('physics', 'NNS'),\n",
       " ('and', 'CC'),\n",
       " ('aerospace', 'NN'),\n",
       " ('engineering', 'NN'),\n",
       " ('.', '.'),\n",
       " ('He', 'PRP'),\n",
       " ('spent', 'VBD'),\n",
       " ('the', 'DT'),\n",
       " ('next', 'JJ'),\n",
       " ('four', 'CD'),\n",
       " ('decades', 'NNS'),\n",
       " ('as', 'IN'),\n",
       " ('a', 'DT'),\n",
       " ('scientist', 'NN'),\n",
       " ('and', 'CC'),\n",
       " ('science', 'NN'),\n",
       " ('administrator', 'NN'),\n",
       " (',', ','),\n",
       " ('mainly', 'RB'),\n",
       " ('at', 'IN'),\n",
       " ('the', 'DT'),\n",
       " ('Defence', 'NNP'),\n",
       " ('Research', 'NNP'),\n",
       " ('and', 'CC'),\n",
       " ('Development', 'NNP'),\n",
       " ('Organisation', 'NNP'),\n",
       " ('(', '('),\n",
       " ('DRDO', 'NNP'),\n",
       " (')', ')'),\n",
       " ('and', 'CC'),\n",
       " ('Indian', 'JJ'),\n",
       " ('Space', 'NNP'),\n",
       " ('Research', 'NNP'),\n",
       " ('Organisation', 'NNP'),\n",
       " ('(', '('),\n",
       " ('ISRO', 'NNP'),\n",
       " (')', ')'),\n",
       " ('and', 'CC'),\n",
       " ('was', 'VBD'),\n",
       " ('intimately', 'RB'),\n",
       " ('involved', 'VBN'),\n",
       " ('in', 'IN'),\n",
       " ('India', 'NNP'),\n",
       " (\"'s\", 'POS'),\n",
       " ('civilian', 'JJ'),\n",
       " ('space', 'NN'),\n",
       " ('programme', 'NN'),\n",
       " ('and', 'CC'),\n",
       " ('military', 'JJ'),\n",
       " ('missile', 'NN'),\n",
       " ('development', 'NN'),\n",
       " ('efforts', 'NNS'),\n",
       " ('.', '.'),\n",
       " ('[', 'VB'),\n",
       " ('1', 'CD'),\n",
       " (']', 'NN'),\n",
       " ('He', 'PRP'),\n",
       " ('thus', 'RB'),\n",
       " ('came', 'VBD'),\n",
       " ('to', 'TO'),\n",
       " ('be', 'VB'),\n",
       " ('known', 'VBN'),\n",
       " ('as', 'IN'),\n",
       " ('the', 'DT'),\n",
       " ('Missile', 'NNP'),\n",
       " ('Man', 'NNP'),\n",
       " ('of', 'IN'),\n",
       " ('India', 'NNP'),\n",
       " ('for', 'IN'),\n",
       " ('his', 'PRP$'),\n",
       " ('work', 'NN'),\n",
       " ('on', 'IN'),\n",
       " ('the', 'DT'),\n",
       " ('development', 'NN'),\n",
       " ('of', 'IN'),\n",
       " ('ballistic', 'JJ'),\n",
       " ('missile', 'NN'),\n",
       " ('and', 'CC'),\n",
       " ('launch', 'JJ'),\n",
       " ('vehicle', 'NN'),\n",
       " ('technology', 'NN'),\n",
       " ('.', '.'),\n",
       " ('[', 'CC'),\n",
       " ('2', 'CD'),\n",
       " (']', 'JJ'),\n",
       " ('[', '$'),\n",
       " ('3', 'CD'),\n",
       " (']', 'NNP'),\n",
       " ('[', 'VBD'),\n",
       " ('4', 'CD'),\n",
       " (']', 'NN'),\n",
       " ('He', 'PRP'),\n",
       " ('also', 'RB'),\n",
       " ('played', 'VBD'),\n",
       " ('a', 'DT'),\n",
       " ('pivotal', 'JJ'),\n",
       " ('organisational', 'JJ'),\n",
       " (',', ','),\n",
       " ('technical', 'JJ'),\n",
       " (',', ','),\n",
       " ('and', 'CC'),\n",
       " ('political', 'JJ'),\n",
       " ('role', 'NN'),\n",
       " ('in', 'IN'),\n",
       " ('India', 'NNP'),\n",
       " (\"'s\", 'POS'),\n",
       " ('Pokhran-II', 'JJ'),\n",
       " ('nuclear', 'JJ'),\n",
       " ('tests', 'NNS'),\n",
       " ('in', 'IN'),\n",
       " ('1998', 'CD'),\n",
       " (',', ','),\n",
       " ('the', 'DT'),\n",
       " ('first', 'JJ'),\n",
       " ('since', 'IN'),\n",
       " ('the', 'DT'),\n",
       " ('original', 'JJ'),\n",
       " ('nuclear', 'JJ'),\n",
       " ('test', 'NN'),\n",
       " ('by', 'IN'),\n",
       " ('India', 'NNP'),\n",
       " ('in', 'IN'),\n",
       " ('1974', 'CD'),\n",
       " ('.', '.')]"
      ]
     },
     "execution_count": 59,
     "metadata": {},
     "output_type": "execute_result"
    }
   ],
   "source": [
    "tagged_words"
   ]
  },
  {
   "cell_type": "code",
   "execution_count": 62,
   "id": "b78fd200-ba9d-483a-9bca-5b03afdc34f7",
   "metadata": {},
   "outputs": [
    {
     "name": "stdout",
     "output_type": "stream",
     "text": [
      "(S\n",
      "  (Name Avul/NNP Pakir/NNP Jainulabdeen/NNP Abdul/NNP Kalam/NNP)\n",
      "  (/(\n",
      "  (Date 15/CD October/NNP 1931/CD)\n",
      "  –/VBD\n",
      "  (Date 27/CD July/NNP 2015/CD)\n",
      "  )/)\n",
      "  was/VBD\n",
      "  an/DT\n",
      "  Indian/JJ\n",
      "  aerospace/NN\n",
      "  scientist/NN\n",
      "  and/CC\n",
      "  politician/NN\n",
      "  who/WP\n",
      "  served/VBD\n",
      "  as/IN\n",
      "  the/DT\n",
      "  11th/CD\n",
      "  (Name President/NNP)\n",
      "  of/IN\n",
      "  (Name India/NNP)\n",
      "  from/IN\n",
      "  2002/CD\n",
      "  to/TO\n",
      "  2007/CD\n",
      "  ./.\n",
      "  He/PRP\n",
      "  was/VBD\n",
      "  born/VBN\n",
      "  and/CC\n",
      "  raised/VBN\n",
      "  in/IN\n",
      "  (Name Rameswaram/NNP)\n",
      "  ,/,\n",
      "  (Name Tamil/NNP Nadu/NNP)\n",
      "  and/CC\n",
      "  studied/VBN\n",
      "  physics/NNS\n",
      "  and/CC\n",
      "  aerospace/NN\n",
      "  engineering/NN\n",
      "  ./.\n",
      "  He/PRP\n",
      "  spent/VBD\n",
      "  the/DT\n",
      "  next/JJ\n",
      "  four/CD\n",
      "  decades/NNS\n",
      "  as/IN\n",
      "  a/DT\n",
      "  scientist/NN\n",
      "  and/CC\n",
      "  science/NN\n",
      "  administrator/NN\n",
      "  ,/,\n",
      "  mainly/RB\n",
      "  at/IN\n",
      "  the/DT\n",
      "  (Name Defence/NNP Research/NNP)\n",
      "  and/CC\n",
      "  (Name Development/NNP Organisation/NNP)\n",
      "  (/(\n",
      "  (Name DRDO/NNP)\n",
      "  )/)\n",
      "  and/CC\n",
      "  Indian/JJ\n",
      "  (Name Space/NNP Research/NNP Organisation/NNP)\n",
      "  (/(\n",
      "  (Name ISRO/NNP)\n",
      "  )/)\n",
      "  and/CC\n",
      "  was/VBD\n",
      "  intimately/RB\n",
      "  involved/VBN\n",
      "  in/IN\n",
      "  (Name India/NNP)\n",
      "  's/POS\n",
      "  civilian/JJ\n",
      "  space/NN\n",
      "  programme/NN\n",
      "  and/CC\n",
      "  military/JJ\n",
      "  missile/NN\n",
      "  development/NN\n",
      "  efforts/NNS\n",
      "  ./.\n",
      "  [/VB\n",
      "  1/CD\n",
      "  ]/NN\n",
      "  He/PRP\n",
      "  thus/RB\n",
      "  came/VBD\n",
      "  to/TO\n",
      "  be/VB\n",
      "  known/VBN\n",
      "  as/IN\n",
      "  the/DT\n",
      "  (Name Missile/NNP Man/NNP)\n",
      "  of/IN\n",
      "  (Name India/NNP)\n",
      "  for/IN\n",
      "  his/PRP$\n",
      "  work/NN\n",
      "  on/IN\n",
      "  the/DT\n",
      "  development/NN\n",
      "  of/IN\n",
      "  ballistic/JJ\n",
      "  missile/NN\n",
      "  and/CC\n",
      "  launch/JJ\n",
      "  vehicle/NN\n",
      "  technology/NN\n",
      "  ./.\n",
      "  [/CC\n",
      "  2/CD\n",
      "  ]/JJ\n",
      "  [/$\n",
      "  3/CD\n",
      "  (Name ]/NNP)\n",
      "  [/VBD\n",
      "  4/CD\n",
      "  ]/NN\n",
      "  He/PRP\n",
      "  also/RB\n",
      "  played/VBD\n",
      "  a/DT\n",
      "  pivotal/JJ\n",
      "  organisational/JJ\n",
      "  ,/,\n",
      "  technical/JJ\n",
      "  ,/,\n",
      "  and/CC\n",
      "  political/JJ\n",
      "  role/NN\n",
      "  in/IN\n",
      "  (Name India/NNP)\n",
      "  's/POS\n",
      "  Pokhran-II/JJ\n",
      "  nuclear/JJ\n",
      "  tests/NNS\n",
      "  in/IN\n",
      "  1998/CD\n",
      "  ,/,\n",
      "  the/DT\n",
      "  first/JJ\n",
      "  since/IN\n",
      "  the/DT\n",
      "  original/JJ\n",
      "  nuclear/JJ\n",
      "  test/NN\n",
      "  by/IN\n",
      "  (Name India/NNP)\n",
      "  in/IN\n",
      "  1974/CD\n",
      "  ./.)\n"
     ]
    }
   ],
   "source": [
    "### Annotating tha data and finding entities of interest\n",
    "\n",
    "\n",
    "chunkGram=r\"\"\"Date: {<CD>?<NNP><CD>}\n",
    "              Name: {<NNP>+}\n",
    "\"\"\"\n",
    "\n",
    "chunkParser=nltk.RegexpParser(chunkGram)\n",
    "chunked=chunkParser.parse(tagged_words)\n",
    "print(chunked)"
   ]
  },
  {
   "cell_type": "code",
   "execution_count": 63,
   "id": "cf9a9061-1619-46ef-9226-54c4f150efb6",
   "metadata": {},
   "outputs": [
    {
     "name": "stdout",
     "output_type": "stream",
     "text": [
      "[[[], Tree('Name', [('Avul', 'NNP'), ('Pakir', 'NNP'), ('Jainulabdeen', 'NNP'), ('Abdul', 'NNP'), ('Kalam', 'NNP')])], [[('(', '(')], Tree('Date', [('15', 'CD'), ('October', 'NNP'), ('1931', 'CD')])], [[('–', 'VBD')], Tree('Date', [('27', 'CD'), ('July', 'NNP'), ('2015', 'CD')])], [[(')', ')'), ('was', 'VBD'), ('an', 'DT'), ('Indian', 'JJ'), ('aerospace', 'NN'), ('scientist', 'NN'), ('and', 'CC'), ('politician', 'NN'), ('who', 'WP'), ('served', 'VBD'), ('as', 'IN'), ('the', 'DT'), ('11th', 'CD')], Tree('Name', [('President', 'NNP')])], [[('of', 'IN')], Tree('Name', [('India', 'NNP')])], [[('from', 'IN'), ('2002', 'CD'), ('to', 'TO'), ('2007', 'CD'), ('.', '.'), ('He', 'PRP'), ('was', 'VBD'), ('born', 'VBN'), ('and', 'CC'), ('raised', 'VBN'), ('in', 'IN')], Tree('Name', [('Rameswaram', 'NNP')])], [[(',', ',')], Tree('Name', [('Tamil', 'NNP'), ('Nadu', 'NNP')])], [[('and', 'CC'), ('studied', 'VBN'), ('physics', 'NNS'), ('and', 'CC'), ('aerospace', 'NN'), ('engineering', 'NN'), ('.', '.'), ('He', 'PRP'), ('spent', 'VBD'), ('the', 'DT'), ('next', 'JJ'), ('four', 'CD'), ('decades', 'NNS'), ('as', 'IN'), ('a', 'DT'), ('scientist', 'NN'), ('and', 'CC'), ('science', 'NN'), ('administrator', 'NN'), (',', ','), ('mainly', 'RB'), ('at', 'IN'), ('the', 'DT')], Tree('Name', [('Defence', 'NNP'), ('Research', 'NNP')])], [[('and', 'CC')], Tree('Name', [('Development', 'NNP'), ('Organisation', 'NNP')])], [[('(', '(')], Tree('Name', [('DRDO', 'NNP')])], [[(')', ')'), ('and', 'CC'), ('Indian', 'JJ')], Tree('Name', [('Space', 'NNP'), ('Research', 'NNP'), ('Organisation', 'NNP')])], [[('(', '(')], Tree('Name', [('ISRO', 'NNP')])], [[(')', ')'), ('and', 'CC'), ('was', 'VBD'), ('intimately', 'RB'), ('involved', 'VBN'), ('in', 'IN')], Tree('Name', [('India', 'NNP')])], [[(\"'s\", 'POS'), ('civilian', 'JJ'), ('space', 'NN'), ('programme', 'NN'), ('and', 'CC'), ('military', 'JJ'), ('missile', 'NN'), ('development', 'NN'), ('efforts', 'NNS'), ('.', '.'), ('[', 'VB'), ('1', 'CD'), (']', 'NN'), ('He', 'PRP'), ('thus', 'RB'), ('came', 'VBD'), ('to', 'TO'), ('be', 'VB'), ('known', 'VBN'), ('as', 'IN'), ('the', 'DT')], Tree('Name', [('Missile', 'NNP'), ('Man', 'NNP')])], [[('of', 'IN')], Tree('Name', [('India', 'NNP')])], [[('for', 'IN'), ('his', 'PRP$'), ('work', 'NN'), ('on', 'IN'), ('the', 'DT'), ('development', 'NN'), ('of', 'IN'), ('ballistic', 'JJ'), ('missile', 'NN'), ('and', 'CC'), ('launch', 'JJ'), ('vehicle', 'NN'), ('technology', 'NN'), ('.', '.'), ('[', 'CC'), ('2', 'CD'), (']', 'JJ'), ('[', '$'), ('3', 'CD')], Tree('Name', [(']', 'NNP')])], [[('[', 'VBD'), ('4', 'CD'), (']', 'NN'), ('He', 'PRP'), ('also', 'RB'), ('played', 'VBD'), ('a', 'DT'), ('pivotal', 'JJ'), ('organisational', 'JJ'), (',', ','), ('technical', 'JJ'), (',', ','), ('and', 'CC'), ('political', 'JJ'), ('role', 'NN'), ('in', 'IN')], Tree('Name', [('India', 'NNP')])], [[(\"'s\", 'POS'), ('Pokhran-II', 'JJ'), ('nuclear', 'JJ'), ('tests', 'NNS'), ('in', 'IN'), ('1998', 'CD'), (',', ','), ('the', 'DT'), ('first', 'JJ'), ('since', 'IN'), ('the', 'DT'), ('original', 'JJ'), ('nuclear', 'JJ'), ('test', 'NN'), ('by', 'IN')], Tree('Name', [('India', 'NNP')])]]\n"
     ]
    }
   ],
   "source": [
    "### Identify relationship pairs\n",
    "\n",
    "\n",
    "from nltk.sem import relextract\n",
    "pairs=relextract.tree2semi_rel(chunked)\n",
    "print(pairs)"
   ]
  },
  {
   "cell_type": "code",
   "execution_count": 64,
   "id": "02a3b17a-232a-43e0-bb83-57c3fa185a76",
   "metadata": {},
   "outputs": [
    {
     "name": "stdout",
     "output_type": "stream",
     "text": [
      "Avul Pakir Jainulabdeen Abdul Kalam (/( 15 October 1931\n"
     ]
    }
   ],
   "source": [
    "## Extracting the relationship \n",
    "\n",
    "relationships=relextract.semi_rel2reldict(pairs)\n",
    "extracted_relatioship=[]\n",
    "for rel in relationships:\n",
    "    if rel['objclass']=='Date':\n",
    "        extracted_relatioship.append(rel['subjtext']+\" \"+rel[\"filler\"]+\" \"+rel[\"objtext\"])\n",
    "first_relationship = re.sub(r'/[A-Z]+',\"\",extracted_relatioship[0])\n",
    "print(first_relationship)\n",
    "        "
   ]
  },
  {
   "cell_type": "code",
   "execution_count": null,
   "id": "8c2d2aa4-5a8a-43c4-a5c6-33218561f80c",
   "metadata": {},
   "outputs": [],
   "source": []
  }
 ],
 "metadata": {
  "kernelspec": {
   "display_name": "Python 3 (ipykernel)",
   "language": "python",
   "name": "python3"
  },
  "language_info": {
   "codemirror_mode": {
    "name": "ipython",
    "version": 3
   },
   "file_extension": ".py",
   "mimetype": "text/x-python",
   "name": "python",
   "nbconvert_exporter": "python",
   "pygments_lexer": "ipython3",
   "version": "3.11.9"
  }
 },
 "nbformat": 4,
 "nbformat_minor": 5
}
